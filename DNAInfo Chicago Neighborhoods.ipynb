{
 "cells": [
  {
   "cell_type": "code",
   "execution_count": 1,
   "metadata": {
    "collapsed": true
   },
   "outputs": [],
   "source": [
    "import numpy as np\n",
    "import pandas as pd\n",
    "import matplotlib.pyplot as plt\n",
    "import geopandas as gpd\n",
    "import pysal\n",
    "%matplotlib inline"
   ]
  },
  {
   "cell_type": "markdown",
   "metadata": {
    "collapsed": true
   },
   "source": [
    "### To analyze:\n",
    "- Mean area of each neighborhood\n",
    "- Figure out a way of measuring agreement/overlap\n",
    "    - Mean overlap of each polygon against all other polygons for a given neighborhood?\n",
    "- Don't consider neighborhoods which have below a certain threshold"
   ]
  },
  {
   "cell_type": "code",
   "execution_count": 2,
   "metadata": {
    "collapsed": false
   },
   "outputs": [
    {
     "data": {
      "text/html": [
       "<div>\n",
       "<table border=\"1\" class=\"dataframe\">\n",
       "  <thead>\n",
       "    <tr style=\"text-align: right;\">\n",
       "      <th></th>\n",
       "      <th>geometry</th>\n",
       "      <th>neighborhood</th>\n",
       "    </tr>\n",
       "  </thead>\n",
       "  <tbody>\n",
       "    <tr>\n",
       "      <th>0</th>\n",
       "      <td>POLYGON ((-87.68754959106445 41.92488743920406...</td>\n",
       "      <td>bucktown</td>\n",
       "    </tr>\n",
       "    <tr>\n",
       "      <th>1</th>\n",
       "      <td>POLYGON ((-87.68772125244141 41.92693092226143...</td>\n",
       "      <td>bucktown</td>\n",
       "    </tr>\n",
       "    <tr>\n",
       "      <th>2</th>\n",
       "      <td>POLYGON ((-87.68763542175293 41.92725021057667...</td>\n",
       "      <td>bucktown</td>\n",
       "    </tr>\n",
       "    <tr>\n",
       "      <th>3</th>\n",
       "      <td>POLYGON ((-87.66776561737061 41.91074091042736...</td>\n",
       "      <td>bucktown</td>\n",
       "    </tr>\n",
       "    <tr>\n",
       "      <th>4</th>\n",
       "      <td>POLYGON ((-87.65356063842772 41.9112199638231,...</td>\n",
       "      <td>bucktown</td>\n",
       "    </tr>\n",
       "  </tbody>\n",
       "</table>\n",
       "</div>"
      ],
      "text/plain": [
       "                                            geometry neighborhood\n",
       "0  POLYGON ((-87.68754959106445 41.92488743920406...     bucktown\n",
       "1  POLYGON ((-87.68772125244141 41.92693092226143...     bucktown\n",
       "2  POLYGON ((-87.68763542175293 41.92725021057667...     bucktown\n",
       "3  POLYGON ((-87.66776561737061 41.91074091042736...     bucktown\n",
       "4  POLYGON ((-87.65356063842772 41.9112199638231,...     bucktown"
      ]
     },
     "execution_count": 2,
     "metadata": {},
     "output_type": "execute_result"
    }
   ],
   "source": [
    "dna_polygons = gpd.read_file(\"dna_neighborhoods.geojson\")\n",
    "dna_polygons.head()"
   ]
  },
  {
   "cell_type": "code",
   "execution_count": 12,
   "metadata": {
    "collapsed": false
   },
   "outputs": [
    {
     "data": {
      "text/html": [
       "<div>\n",
       "<table border=\"1\" class=\"dataframe\">\n",
       "  <thead>\n",
       "    <tr style=\"text-align: right;\">\n",
       "      <th></th>\n",
       "      <th>neighborhood</th>\n",
       "      <th>geometry</th>\n",
       "    </tr>\n",
       "  </thead>\n",
       "  <tbody>\n",
       "    <tr>\n",
       "      <th>81</th>\n",
       "      <td>ravenswood</td>\n",
       "      <td>79</td>\n",
       "    </tr>\n",
       "    <tr>\n",
       "      <th>55</th>\n",
       "      <td>lakeview</td>\n",
       "      <td>78</td>\n",
       "    </tr>\n",
       "    <tr>\n",
       "      <th>60</th>\n",
       "      <td>logan-square</td>\n",
       "      <td>77</td>\n",
       "    </tr>\n",
       "    <tr>\n",
       "      <th>57</th>\n",
       "      <td>lincoln-square</td>\n",
       "      <td>76</td>\n",
       "    </tr>\n",
       "    <tr>\n",
       "      <th>99</th>\n",
       "      <td>uptown</td>\n",
       "      <td>76</td>\n",
       "    </tr>\n",
       "    <tr>\n",
       "      <th>111</th>\n",
       "      <td>wicker-park</td>\n",
       "      <td>75</td>\n",
       "    </tr>\n",
       "    <tr>\n",
       "      <th>70</th>\n",
       "      <td>north-center</td>\n",
       "      <td>73</td>\n",
       "    </tr>\n",
       "    <tr>\n",
       "      <th>32</th>\n",
       "      <td>edgewater</td>\n",
       "      <td>72</td>\n",
       "    </tr>\n",
       "    <tr>\n",
       "      <th>97</th>\n",
       "      <td>ukrainian-village</td>\n",
       "      <td>72</td>\n",
       "    </tr>\n",
       "    <tr>\n",
       "      <th>56</th>\n",
       "      <td>lincoln-park</td>\n",
       "      <td>71</td>\n",
       "    </tr>\n",
       "    <tr>\n",
       "      <th>18</th>\n",
       "      <td>bucktown</td>\n",
       "      <td>71</td>\n",
       "    </tr>\n",
       "    <tr>\n",
       "      <th>2</th>\n",
       "      <td>andersonville</td>\n",
       "      <td>71</td>\n",
       "    </tr>\n",
       "    <tr>\n",
       "      <th>9</th>\n",
       "      <td>avondale</td>\n",
       "      <td>69</td>\n",
       "    </tr>\n",
       "    <tr>\n",
       "      <th>49</th>\n",
       "      <td>hyde-park</td>\n",
       "      <td>68</td>\n",
       "    </tr>\n",
       "    <tr>\n",
       "      <th>78</th>\n",
       "      <td>pilsen</td>\n",
       "      <td>65</td>\n",
       "    </tr>\n",
       "  </tbody>\n",
       "</table>\n",
       "</div>"
      ],
      "text/plain": [
       "          neighborhood  geometry\n",
       "81          ravenswood        79\n",
       "55            lakeview        78\n",
       "60        logan-square        77\n",
       "57      lincoln-square        76\n",
       "99              uptown        76\n",
       "111        wicker-park        75\n",
       "70        north-center        73\n",
       "32           edgewater        72\n",
       "97   ukrainian-village        72\n",
       "56        lincoln-park        71\n",
       "18            bucktown        71\n",
       "2        andersonville        71\n",
       "9             avondale        69\n",
       "49           hyde-park        68\n",
       "78              pilsen        65"
      ]
     },
     "execution_count": 12,
     "metadata": {},
     "output_type": "execute_result"
    }
   ],
   "source": [
    "neighborhoods_count = dna_polygons.groupby([\"neighborhood\"]).count()\n",
    "neighborhoods_count.reset_index(inplace=True)\n",
    "neighborhoods_count.sort_values(by=[\"geometry\"], ascending=False, inplace=True)\n",
    "neighborhoods_count[:15]"
   ]
  },
  {
   "cell_type": "code",
   "execution_count": 13,
   "metadata": {
    "collapsed": false
   },
   "outputs": [
    {
     "data": {
      "text/html": [
       "<div>\n",
       "<table border=\"1\" class=\"dataframe\">\n",
       "  <thead>\n",
       "    <tr style=\"text-align: right;\">\n",
       "      <th></th>\n",
       "      <th>neighborhood</th>\n",
       "      <th>geometry</th>\n",
       "    </tr>\n",
       "  </thead>\n",
       "  <tbody>\n",
       "    <tr>\n",
       "      <th>41</th>\n",
       "      <td>grand-boulevard</td>\n",
       "      <td>1</td>\n",
       "    </tr>\n",
       "    <tr>\n",
       "      <th>103</th>\n",
       "      <td>west-englewood</td>\n",
       "      <td>1</td>\n",
       "    </tr>\n",
       "    <tr>\n",
       "      <th>14</th>\n",
       "      <td>brainerd</td>\n",
       "      <td>1</td>\n",
       "    </tr>\n",
       "    <tr>\n",
       "      <th>64</th>\n",
       "      <td>medical-district</td>\n",
       "      <td>1</td>\n",
       "    </tr>\n",
       "    <tr>\n",
       "      <th>52</th>\n",
       "      <td>jackson-highlands</td>\n",
       "      <td>1</td>\n",
       "    </tr>\n",
       "    <tr>\n",
       "      <th>90</th>\n",
       "      <td>south-austin</td>\n",
       "      <td>1</td>\n",
       "    </tr>\n",
       "    <tr>\n",
       "      <th>107</th>\n",
       "      <td>west-pullman</td>\n",
       "      <td>1</td>\n",
       "    </tr>\n",
       "    <tr>\n",
       "      <th>8</th>\n",
       "      <td>avalon-park</td>\n",
       "      <td>1</td>\n",
       "    </tr>\n",
       "    <tr>\n",
       "      <th>80</th>\n",
       "      <td>pullman</td>\n",
       "      <td>2</td>\n",
       "    </tr>\n",
       "    <tr>\n",
       "      <th>92</th>\n",
       "      <td>south-deering</td>\n",
       "      <td>2</td>\n",
       "    </tr>\n",
       "    <tr>\n",
       "      <th>77</th>\n",
       "      <td>pill-hill</td>\n",
       "      <td>2</td>\n",
       "    </tr>\n",
       "    <tr>\n",
       "      <th>25</th>\n",
       "      <td>douglas</td>\n",
       "      <td>2</td>\n",
       "    </tr>\n",
       "    <tr>\n",
       "      <th>45</th>\n",
       "      <td>heart-of-italy</td>\n",
       "      <td>2</td>\n",
       "    </tr>\n",
       "    <tr>\n",
       "      <th>23</th>\n",
       "      <td>chinatown</td>\n",
       "      <td>2</td>\n",
       "    </tr>\n",
       "    <tr>\n",
       "      <th>36</th>\n",
       "      <td>gage-park</td>\n",
       "      <td>3</td>\n",
       "    </tr>\n",
       "  </tbody>\n",
       "</table>\n",
       "</div>"
      ],
      "text/plain": [
       "          neighborhood  geometry\n",
       "41     grand-boulevard         1\n",
       "103     west-englewood         1\n",
       "14            brainerd         1\n",
       "64    medical-district         1\n",
       "52   jackson-highlands         1\n",
       "90        south-austin         1\n",
       "107       west-pullman         1\n",
       "8          avalon-park         1\n",
       "80             pullman         2\n",
       "92       south-deering         2\n",
       "77           pill-hill         2\n",
       "25             douglas         2\n",
       "45      heart-of-italy         2\n",
       "23           chinatown         2\n",
       "36           gage-park         3"
      ]
     },
     "execution_count": 13,
     "metadata": {},
     "output_type": "execute_result"
    }
   ],
   "source": [
    "neighborhoods_count.sort_values(by=[\"geometry\"], ascending=True, inplace=True)\n",
    "neighborhoods_count[:15]"
   ]
  },
  {
   "cell_type": "code",
   "execution_count": 14,
   "metadata": {
    "collapsed": false
   },
   "outputs": [
    {
     "data": {
      "text/plain": [
       "<matplotlib.axes._subplots.AxesSubplot at 0x111395950>"
      ]
     },
     "execution_count": 14,
     "metadata": {},
     "output_type": "execute_result"
    },
    {
     "data": {
      "image/png": "[encoded data removed]",
      "text/plain": [
       "<matplotlib.figure.Figure at 0x111455c90>"
      ]
     },
     "metadata": {},
     "output_type": "display_data"
    }
   ],
   "source": [
    "# Plot Ravenswood on the map, with the most responses\n",
    "ravenswood = dna_polygons[dna_polygons[\"neighborhood\"] == \"ravenswood\"]\n",
    "ravenswood.plot()"
   ]
  },
  {
   "cell_type": "code",
   "execution_count": 15,
   "metadata": {
    "collapsed": false
   },
   "outputs": [
    {
     "data": {
      "text/html": [
       "<div>\n",
       "<table border=\"1\" class=\"dataframe\">\n",
       "  <thead>\n",
       "    <tr style=\"text-align: right;\">\n",
       "      <th></th>\n",
       "      <th>geometry</th>\n",
       "      <th>neighborhood</th>\n",
       "      <th>area</th>\n",
       "    </tr>\n",
       "  </thead>\n",
       "  <tbody>\n",
       "    <tr>\n",
       "      <th>0</th>\n",
       "      <td>POLYGON ((-87.68754959106445 41.92488743920406...</td>\n",
       "      <td>bucktown</td>\n",
       "      <td>0.000249</td>\n",
       "    </tr>\n",
       "    <tr>\n",
       "      <th>1</th>\n",
       "      <td>POLYGON ((-87.68772125244141 41.92693092226143...</td>\n",
       "      <td>bucktown</td>\n",
       "      <td>0.000213</td>\n",
       "    </tr>\n",
       "    <tr>\n",
       "      <th>2</th>\n",
       "      <td>POLYGON ((-87.68763542175293 41.92725021057667...</td>\n",
       "      <td>bucktown</td>\n",
       "      <td>0.000289</td>\n",
       "    </tr>\n",
       "    <tr>\n",
       "      <th>3</th>\n",
       "      <td>POLYGON ((-87.66776561737061 41.91074091042736...</td>\n",
       "      <td>bucktown</td>\n",
       "      <td>0.000202</td>\n",
       "    </tr>\n",
       "    <tr>\n",
       "      <th>4</th>\n",
       "      <td>POLYGON ((-87.65356063842772 41.9112199638231,...</td>\n",
       "      <td>bucktown</td>\n",
       "      <td>0.000161</td>\n",
       "    </tr>\n",
       "  </tbody>\n",
       "</table>\n",
       "</div>"
      ],
      "text/plain": [
       "                                            geometry neighborhood      area\n",
       "0  POLYGON ((-87.68754959106445 41.92488743920406...     bucktown  0.000249\n",
       "1  POLYGON ((-87.68772125244141 41.92693092226143...     bucktown  0.000213\n",
       "2  POLYGON ((-87.68763542175293 41.92725021057667...     bucktown  0.000289\n",
       "3  POLYGON ((-87.66776561737061 41.91074091042736...     bucktown  0.000202\n",
       "4  POLYGON ((-87.65356063842772 41.9112199638231,...     bucktown  0.000161"
      ]
     },
     "execution_count": 15,
     "metadata": {},
     "output_type": "execute_result"
    }
   ],
   "source": [
    "dna_polygons[\"area\"] = dna_polygons[\"geometry\"].area\n",
    "dna_polygons.head()"
   ]
  },
  {
   "cell_type": "code",
   "execution_count": 16,
   "metadata": {
    "collapsed": false
   },
   "outputs": [
    {
     "data": {
      "text/html": [
       "<div>\n",
       "<table border=\"1\" class=\"dataframe\">\n",
       "  <thead>\n",
       "    <tr style=\"text-align: right;\">\n",
       "      <th></th>\n",
       "      <th>geometry</th>\n",
       "      <th>neighborhood</th>\n",
       "      <th>area</th>\n",
       "    </tr>\n",
       "  </thead>\n",
       "  <tbody>\n",
       "    <tr>\n",
       "      <th>2333</th>\n",
       "      <td>POLYGON ((-87.7979278564453 41.70393428491598,...</td>\n",
       "      <td>altgeld-gardens</td>\n",
       "      <td>0.035448</td>\n",
       "    </tr>\n",
       "    <tr>\n",
       "      <th>344</th>\n",
       "      <td>POLYGON ((-87.61081695556639 41.83855443162865...</td>\n",
       "      <td>bronzeville</td>\n",
       "      <td>0.010648</td>\n",
       "    </tr>\n",
       "    <tr>\n",
       "      <th>2845</th>\n",
       "      <td>POLYGON ((-87.91980743408203 42.00823391072399...</td>\n",
       "      <td>ohare</td>\n",
       "      <td>0.006766</td>\n",
       "    </tr>\n",
       "    <tr>\n",
       "      <th>1442</th>\n",
       "      <td>POLYGON ((-87.77647018432617 41.68175859254098...</td>\n",
       "      <td>mt-greenwood</td>\n",
       "      <td>0.005983</td>\n",
       "    </tr>\n",
       "    <tr>\n",
       "      <th>2374</th>\n",
       "      <td>POLYGON ((-87.77389526367188 41.83388618820479...</td>\n",
       "      <td>archer-heights</td>\n",
       "      <td>0.005630</td>\n",
       "    </tr>\n",
       "    <tr>\n",
       "      <th>2844</th>\n",
       "      <td>POLYGON ((-87.84513473510742 41.97378534488486...</td>\n",
       "      <td>ohare</td>\n",
       "      <td>0.005440</td>\n",
       "    </tr>\n",
       "    <tr>\n",
       "      <th>886</th>\n",
       "      <td>POLYGON ((-87.75432586669922 41.77707262300616...</td>\n",
       "      <td>ashburn</td>\n",
       "      <td>0.004923</td>\n",
       "    </tr>\n",
       "    <tr>\n",
       "      <th>347</th>\n",
       "      <td>POLYGON ((-87.65544891357422 41.85255711882255...</td>\n",
       "      <td>bronzeville</td>\n",
       "      <td>0.004634</td>\n",
       "    </tr>\n",
       "    <tr>\n",
       "      <th>2634</th>\n",
       "      <td>POLYGON ((-87.68857955932617 41.96816973794843...</td>\n",
       "      <td>lincoln-park</td>\n",
       "      <td>0.004457</td>\n",
       "    </tr>\n",
       "    <tr>\n",
       "      <th>589</th>\n",
       "      <td>POLYGON ((-87.78127670288086 42.01218792326233...</td>\n",
       "      <td>jefferson-park</td>\n",
       "      <td>0.004058</td>\n",
       "    </tr>\n",
       "  </tbody>\n",
       "</table>\n",
       "</div>"
      ],
      "text/plain": [
       "                                               geometry     neighborhood  \\\n",
       "2333  POLYGON ((-87.7979278564453 41.70393428491598,...  altgeld-gardens   \n",
       "344   POLYGON ((-87.61081695556639 41.83855443162865...      bronzeville   \n",
       "2845  POLYGON ((-87.91980743408203 42.00823391072399...            ohare   \n",
       "1442  POLYGON ((-87.77647018432617 41.68175859254098...     mt-greenwood   \n",
       "2374  POLYGON ((-87.77389526367188 41.83388618820479...   archer-heights   \n",
       "2844  POLYGON ((-87.84513473510742 41.97378534488486...            ohare   \n",
       "886   POLYGON ((-87.75432586669922 41.77707262300616...          ashburn   \n",
       "347   POLYGON ((-87.65544891357422 41.85255711882255...      bronzeville   \n",
       "2634  POLYGON ((-87.68857955932617 41.96816973794843...     lincoln-park   \n",
       "589   POLYGON ((-87.78127670288086 42.01218792326233...   jefferson-park   \n",
       "\n",
       "          area  \n",
       "2333  0.035448  \n",
       "344   0.010648  \n",
       "2845  0.006766  \n",
       "1442  0.005983  \n",
       "2374  0.005630  \n",
       "2844  0.005440  \n",
       "886   0.004923  \n",
       "347   0.004634  \n",
       "2634  0.004457  \n",
       "589   0.004058  "
      ]
     },
     "execution_count": 16,
     "metadata": {},
     "output_type": "execute_result"
    }
   ],
   "source": [
    "dna_polygons.sort_values(by=\"area\", ascending=False, inplace=True)\n",
    "dna_polygons[:10]"
   ]
  },
  {
   "cell_type": "code",
   "execution_count": 33,
   "metadata": {
    "collapsed": false
   },
   "outputs": [
    {
     "data": {
      "image/png": "[encoded data removed]",
      "text/plain": [
       "<matplotlib.figure.Figure at 0x1120fa750>"
      ]
     },
     "metadata": {},
     "output_type": "display_data"
    }
   ],
   "source": [
    "top_25_neighborhoods = neighborhoods_count.sort_values(by=[\"geometry\"], ascending=False)[:25]\n",
    "\n",
    "neighb_plot = top_25_neighborhoods[['neighborhood','geometry']].plot(\n",
    "                                                                     kind='bar', \n",
    "                                                                     title =\"DNAInfo Chicago Neighborhoods\",\n",
    "                                                                     legend=False, \n",
    "                                                                     fontsize=12\n",
    "                                                                    )\n",
    "neighb_plot.set_xlabel(\"Neighborhoods\",fontsize=12)\n",
    "neighb_plot.set_ylabel(\"Count\",fontsize=12)\n",
    "neighb_plot.set_xticklabels(list(top_25_neighborhoods[\"neighborhood\"]))\n",
    "plt.show()"
   ]
  },
  {
   "cell_type": "code",
   "execution_count": null,
   "metadata": {
    "collapsed": true
   },
   "outputs": [],
   "source": []
  }
 ],
 "metadata": {
  "kernelspec": {
   "display_name": "Python 2",
   "language": "python",
   "name": "python2"
  },
  "language_info": {
   "codemirror_mode": {
    "name": "ipython",
    "version": 2
   },
   "file_extension": ".py",
   "mimetype": "text/x-python",
   "name": "python",
   "nbconvert_exporter": "python",
   "pygments_lexer": "ipython2",
   "version": "2.7.10"
  }
 },
 "nbformat": 4,
 "nbformat_minor": 0
}
