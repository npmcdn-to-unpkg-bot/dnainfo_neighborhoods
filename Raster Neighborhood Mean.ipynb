{
 "cells": [
  {
   "cell_type": "code",
   "execution_count": 1,
   "metadata": {
    "collapsed": false
   },
   "outputs": [
    {
     "name": "stderr",
     "output_type": "stream",
     "text": [
      "/usr/local/lib/python2.7/site-packages/matplotlib/font_manager.py:273: UserWarning: Matplotlib is building the font cache using fc-list. This may take a moment.\n",
      "  warnings.warn('Matplotlib is building the font cache using fc-list. This may take a moment.')\n"
     ]
    }
   ],
   "source": [
    "import numpy as np\n",
    "import pandas as pd\n",
    "import matplotlib.pyplot as plt\n",
    "import geopandas as gpd\n",
    "import rasterio\n",
    "from rasterio import Affine, features\n",
    "from shapely.geometry import shape\n",
    "from shapely.ops import cascaded_union\n",
    "from math import floor, ceil, sqrt\n",
    "import fiona\n",
    "%matplotlib inline"
   ]
  },
  {
   "cell_type": "code",
   "execution_count": 3,
   "metadata": {
    "collapsed": false
   },
   "outputs": [
    {
     "name": "stderr",
     "output_type": "stream",
     "text": [
      "Self-intersection at or near point -87.71170156851403 41.904652090768906\n"
     ]
    },
    {
     "name": "stdout",
     "output_type": "stream",
     "text": [
      "64\n"
     ]
    }
   ],
   "source": [
    "shapes = []\n",
    "\n",
    "#with fiona.open(\"data/humboldt-park/humboldt-park-meters.shp\") as hp:\n",
    "with fiona.open(\"data/humboldt-park/humboldt-park.geojson\") as hp:\n",
    "    minx, miny, maxx, maxy = hp.bounds\n",
    "    for f in hp:\n",
    "        if shape(f['geometry']).is_valid:\n",
    "            #for c in f['geometry']['coordinates']:\n",
    "            #    c[0], c[1] = pyproj.transform(inProj, outProj, c[0], c[1])\n",
    "            #shp = transform(project, shape(f['geometry']))\n",
    "            shapes.append(shape(f['geometry']))\n",
    "\n",
    "print len(shapes)"
   ]
  },
  {
   "cell_type": "code",
   "execution_count": 4,
   "metadata": {
    "collapsed": false
   },
   "outputs": [
    {
     "name": "stdout",
     "output_type": "stream",
     "text": [
      "12824\n",
      "4971\n"
     ]
    }
   ],
   "source": [
    "max_shape = cascaded_union([shape(s) for s in shapes])\n",
    "minx, miny, maxx, maxy = max_shape.bounds\n",
    "dx = dy = 0.00001  # grid resolution; very small because not projected coordinates\n",
    "lenx = dx * (ceil(maxx / dx) - floor(minx / dx))\n",
    "leny = dy * (ceil(maxy / dy) - floor(miny / dy))\n",
    "nx = int(lenx / dx)\n",
    "ny = int(leny / dy)\n",
    "gt = Affine(\n",
    "    dx, 0.0, dx * floor(minx / dx),\n",
    "    0.0, -dy, dy * ceil(maxy / dy))\n",
    "\n",
    "print nx \n",
    "print ny"
   ]
  },
  {
   "cell_type": "code",
   "execution_count": 5,
   "metadata": {
    "collapsed": false
   },
   "outputs": [
    {
     "data": {
      "text/plain": [
       "\"r = features.rasterize([shapes[0]], (ny, nx), transform=gt)\\nr2 = features.rasterize([shapes[1]], (ny, nx), transform=gt)\\nr3 = features.rasterize([shapes[2]], (ny, nx), transform=gt)\\n#r = np.add(r, r2)\\n\\npa = np.zeros((ny, nx), 'd')\\npa[r > 0] += 1\\nprint np.amax(pa)\\npa[r2 > 0] += 1\\nprint np.amax(pa)\\npa[r3 > 0] += 1\\n\\nwith rasterio.drivers():\\n    #result = features.rasterize([pa], out_shape=(leny, lenx))\\n    with rasterio.open(\\n            'test.tif',\\n            'w',\\n            driver='GTiff',\\n            width=ny,\\n            height=nx,\\n            count=1,\\n            dtype=np.uint8,\\n            nodata=0) as out:\\n        out.write(pa.astype(np.uint8), indexes=1)\""
      ]
     },
     "execution_count": 5,
     "metadata": {},
     "output_type": "execute_result"
    }
   ],
   "source": [
    "'''r = features.rasterize([shapes[0]], (ny, nx), transform=gt)\n",
    "r2 = features.rasterize([shapes[1]], (ny, nx), transform=gt)\n",
    "r3 = features.rasterize([shapes[2]], (ny, nx), transform=gt)\n",
    "#r = np.add(r, r2)\n",
    "\n",
    "pa = np.zeros((ny, nx), 'd')\n",
    "pa[r > 0] += 1\n",
    "print np.amax(pa)\n",
    "pa[r2 > 0] += 1\n",
    "print np.amax(pa)\n",
    "pa[r3 > 0] += 1\n",
    "\n",
    "with rasterio.drivers():\n",
    "    #result = features.rasterize([pa], out_shape=(leny, lenx))\n",
    "    with rasterio.open(\n",
    "            'test.tif',\n",
    "            'w',\n",
    "            driver='GTiff',\n",
    "            width=ny,\n",
    "            height=nx,\n",
    "            count=1,\n",
    "            dtype=np.uint8,\n",
    "            nodata=0) as out:\n",
    "        out.write(pa.astype(np.uint8), indexes=1)'''"
   ]
  },
  {
   "cell_type": "code",
   "execution_count": 6,
   "metadata": {
    "collapsed": false
   },
   "outputs": [],
   "source": [
    "pa = np.zeros((ny, nx), 'd')\n",
    "for s in shapes:\n",
    "    r = features.rasterize([s], (ny, nx), transform=gt)\n",
    "    pa[r > 0] += 1\n",
    "#pa /= len(shapes)  # normalise values"
   ]
  },
  {
   "cell_type": "code",
   "execution_count": 7,
   "metadata": {
    "collapsed": false
   },
   "outputs": [
    {
     "name": "stdout",
     "output_type": "stream",
     "text": [
      "63.0\n",
      "6.97927015994\n",
      "9.18404600279\n",
      "0.0\n",
      "1.0\n",
      "0.0\n"
     ]
    }
   ],
   "source": [
    "# Ignore zeros http://stackoverflow.com/questions/22049140/how-can-i-ignore-zeros-when-i-take-the-median-on-columns-of-an-array\n",
    "\n",
    "print np.amax(pa)\n",
    "print np.mean(pa)\n",
    "pa_mask = np.ma.masked_where(pa == 0, pa)\n",
    "print np.mean(pa_mask)\n",
    "print np.amin(pa)\n",
    "print np.amin(pa_mask)\n"
   ]
  },
  {
   "cell_type": "code",
   "execution_count": 8,
   "metadata": {
    "collapsed": false
   },
   "outputs": [
    {
     "name": "stderr",
     "output_type": "stream",
     "text": [
      "Self-intersection at or near point -87.71170156851403 41.904652090768906\n"
     ]
    },
    {
     "name": "stdout",
     "output_type": "stream",
     "text": [
      "9.18404600279\n"
     ]
    }
   ],
   "source": [
    "def overlap_mean(neighborhood):\n",
    "    shapes = []\n",
    "\n",
    "    with fiona.open(\"data/{0}/{0}.geojson\".format(neighborhood)) as hp:\n",
    "        for f in hp:\n",
    "            if shape(f['geometry']).is_valid:\n",
    "                shapes.append(shape(f['geometry']))\n",
    "    max_shape = cascaded_union([shape(s) for s in shapes])\n",
    "    minx, miny, maxx, maxy = max_shape.bounds\n",
    "    dx = dy = 0.00001  # grid resolution; very small because not projected coordinates\n",
    "    lenx = dx * (ceil(maxx / dx) - floor(minx / dx))\n",
    "    leny = dy * (ceil(maxy / dy) - floor(miny / dy))\n",
    "    nx = int(lenx / dx)\n",
    "    ny = int(leny / dy)\n",
    "    gt = Affine(\n",
    "        dx, 0.0, dx * floor(minx / dx),\n",
    "        0.0, -dy, dy * ceil(maxy / dy))\n",
    "    pa = np.zeros((ny, nx), 'd')\n",
    "    for s in shapes:\n",
    "        r = features.rasterize([s], (ny, nx), transform=gt)\n",
    "        pa[r > 0] += 1\n",
    "    # Mask items that are 0, get mean of those greater\n",
    "    pa_mask = np.ma.masked_where(pa == 0, pa)\n",
    "    return np.mean(pa_mask)\n",
    "\n",
    "print overlap_mean(\"humboldt-park\")"
   ]
  },
  {
   "cell_type": "code",
   "execution_count": null,
   "metadata": {
    "collapsed": true
   },
   "outputs": [],
   "source": []
  },
  {
   "cell_type": "code",
   "execution_count": 74,
   "metadata": {
    "collapsed": false
   },
   "outputs": [
    {
     "data": {
      "text/plain": [
       "\"with rasterio.drivers():\\n    with rasterio.open(\\n            'mean_humboldt_park.tif',\\n            'w',\\n            driver='GTiff',\\n            width=ny,\\n            height=ny,\\n            count=1,\\n            dtype=np.uint8,\\n            nodata=0) as out:\\n        out.write(pa.astype(np.uint8), indexes=1)\""
      ]
     },
     "execution_count": 74,
     "metadata": {},
     "output_type": "execute_result"
    }
   ],
   "source": [
    "'''with rasterio.drivers():\n",
    "    with rasterio.open(\n",
    "            'mean_humboldt_park.tif',\n",
    "            'w',\n",
    "            driver='GTiff',\n",
    "            width=ny,\n",
    "            height=ny,\n",
    "            count=1,\n",
    "            dtype=np.uint8,\n",
    "            nodata=0) as out:\n",
    "        out.write(pa.astype(np.uint8), indexes=1)'''"
   ]
  },
  {
   "cell_type": "code",
   "execution_count": 75,
   "metadata": {
    "collapsed": false
   },
   "outputs": [
    {
     "data": {
      "text/plain": [
       "\"\\nwith rasterio.open('data/humboldt-park/humboldt-park.tif') as src:\\n    r = src.read()\\n    r_src = src\\n    profile = src.profile\\n    indexes = src.indexes\\n    gt = src.affine\\n    nx = src.width\\n    ny = src.height\\n    \\nprint r_src\\n\\npa = np.zeros(r.shape)\\nfor s in shp_shapes:\\n    rs = features.rasterize([s], out_shape=(ny, nx), transform=gt)\\n    pa[rs > 0] += 1.0\\npa /= len(shp_shapes)  # normalise values\\n\""
      ]
     },
     "execution_count": 75,
     "metadata": {},
     "output_type": "execute_result"
    }
   ],
   "source": [
    "'''\n",
    "with rasterio.open('data/humboldt-park/humboldt-park.tif') as src:\n",
    "    r = src.read()\n",
    "    r_src = src\n",
    "    profile = src.profile\n",
    "    indexes = src.indexes\n",
    "    gt = src.affine\n",
    "    nx = src.width\n",
    "    ny = src.height\n",
    "    \n",
    "print r_src\n",
    "\n",
    "pa = np.zeros(r.shape)\n",
    "for s in shp_shapes:\n",
    "    rs = features.rasterize([s], out_shape=(ny, nx), transform=gt)\n",
    "    pa[rs > 0] += 1.0\n",
    "pa /= len(shp_shapes)  # normalise values\n",
    "'''"
   ]
  },
  {
   "cell_type": "code",
   "execution_count": 76,
   "metadata": {
    "collapsed": false
   },
   "outputs": [
    {
     "data": {
      "text/plain": [
       "'\\nprofile.update(count=1, compress=\\'lzw\\')\\nwith rasterio.open(\\'data/mean_humboldt_park.tif\\', \\'w\\', **profile) as dst:\\n    dst.write(pa, 1)\\n\\n\\nfrom rasterio.transform import IDENTITY\\n\\nwith rasterio.open(\\n            \"data/mean_humboldt_park.tif\",\\n            \\'w\\',\\n            driver=\\'GTiff\\',\\n            width=ny,\\n            height=nx,\\n            count=1,\\n            dtype=np.uint8,\\n            nodata=0,\\n            transform=IDENTITY) as out:\\n        out.write(pa.astype(np.uint8))\\n'"
      ]
     },
     "execution_count": 76,
     "metadata": {},
     "output_type": "execute_result"
    }
   ],
   "source": [
    "#profile = src.profile\n",
    "'''\n",
    "profile.update(count=1, compress='lzw')\n",
    "with rasterio.open('data/mean_humboldt_park.tif', 'w', **profile) as dst:\n",
    "    dst.write(pa, 1)\n",
    "\n",
    "\n",
    "from rasterio.transform import IDENTITY\n",
    "\n",
    "with rasterio.open(\n",
    "            \"data/mean_humboldt_park.tif\",\n",
    "            'w',\n",
    "            driver='GTiff',\n",
    "            width=ny,\n",
    "            height=nx,\n",
    "            count=1,\n",
    "            dtype=np.uint8,\n",
    "            nodata=0,\n",
    "            transform=IDENTITY) as out:\n",
    "        out.write(pa.astype(np.uint8))\n",
    "'''"
   ]
  },
  {
   "cell_type": "code",
   "execution_count": 77,
   "metadata": {
    "collapsed": false
   },
   "outputs": [
    {
     "data": {
      "text/plain": [
       "'\\nfor s in shapes:\\n    rs = features.rasterize([s], (ny, nx), transform=gt)\\n    pa[rs > 0] += 1\\n    #pa += r\\npa /= len(shapes)  # normalise values\\n\\nwith rasterio.drivers():\\n    result = rasterize([geometry], out_shape=(rows, cols))\\n    with rasterio.open(\\n            \"test.tif\",\\n            \\'w\\',\\n            driver=\\'GTiff\\',\\n            width=cols,\\n            height=rows,\\n            count=1,\\n            dtype=numpy.uint8,\\n            nodata=0,\\n            transform=IDENTITY as out:\\n        out.write(result.astype(numpy.uint8), indexes=1)\\n'"
      ]
     },
     "execution_count": 77,
     "metadata": {},
     "output_type": "execute_result"
    }
   ],
   "source": [
    "'''\n",
    "for s in shapes:\n",
    "    rs = features.rasterize([s], (ny, nx), transform=gt)\n",
    "    pa[rs > 0] += 1\n",
    "    #pa += r\n",
    "pa /= len(shapes)  # normalise values\n",
    "\n",
    "with rasterio.drivers():\n",
    "    result = rasterize([geometry], out_shape=(rows, cols))\n",
    "    with rasterio.open(\n",
    "            \"test.tif\",\n",
    "            'w',\n",
    "            driver='GTiff',\n",
    "            width=cols,\n",
    "            height=rows,\n",
    "            count=1,\n",
    "            dtype=numpy.uint8,\n",
    "            nodata=0,\n",
    "            transform=IDENTITY as out:\n",
    "        out.write(result.astype(numpy.uint8), indexes=1)\n",
    "'''"
   ]
  },
  {
   "cell_type": "code",
   "execution_count": null,
   "metadata": {
    "collapsed": true
   },
   "outputs": [],
   "source": []
  }
 ],
 "metadata": {
  "kernelspec": {
   "display_name": "Python 2",
   "language": "python",
   "name": "python2"
  },
  "language_info": {
   "codemirror_mode": {
    "name": "ipython",
    "version": 2
   },
   "file_extension": ".py",
   "mimetype": "text/x-python",
   "name": "python",
   "nbconvert_exporter": "python",
   "pygments_lexer": "ipython2",
   "version": "2.7.10"
  }
 },
 "nbformat": 4,
 "nbformat_minor": 0
}
