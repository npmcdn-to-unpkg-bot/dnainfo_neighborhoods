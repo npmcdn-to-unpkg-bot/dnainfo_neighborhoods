{
 "cells": [
  {
   "cell_type": "code",
   "execution_count": 1,
   "metadata": {
    "collapsed": false
   },
   "outputs": [],
   "source": [
    "from __future__ import division, print_function\n",
    "\n",
    "import numpy as np\n",
    "import pandas as pd\n",
    "import geopandas as gpd"
   ]
  },
  {
   "cell_type": "markdown",
   "metadata": {},
   "source": [
    "### Overlap Method\n",
    "\n",
    "Cross join for each neighborhood against all other shapes in the same neighborhood, done using Pandas to use `neighborhood` as the cross join key.\n",
    "\n",
    "GeoPandas includes Shapely objects as each row item, even outside of a GeoSeries, so the area can be taken and overlap calculated from them."
   ]
  },
  {
   "cell_type": "code",
   "execution_count": 2,
   "metadata": {
    "collapsed": false
   },
   "outputs": [
    {
     "data": {
      "text/html": [
       "<div>\n",
       "<table border=\"1\" class=\"dataframe\">\n",
       "  <thead>\n",
       "    <tr style=\"text-align: right;\">\n",
       "      <th></th>\n",
       "      <th>geometry</th>\n",
       "      <th>neighborhood</th>\n",
       "    </tr>\n",
       "  </thead>\n",
       "  <tbody>\n",
       "    <tr>\n",
       "      <th>0</th>\n",
       "      <td>POLYGON ((-87.68754959106445 41.92488743920406...</td>\n",
       "      <td>bucktown</td>\n",
       "    </tr>\n",
       "    <tr>\n",
       "      <th>1</th>\n",
       "      <td>POLYGON ((-87.68772125244141 41.92693092226143...</td>\n",
       "      <td>bucktown</td>\n",
       "    </tr>\n",
       "    <tr>\n",
       "      <th>2</th>\n",
       "      <td>POLYGON ((-87.68763542175293 41.92725021057667...</td>\n",
       "      <td>bucktown</td>\n",
       "    </tr>\n",
       "    <tr>\n",
       "      <th>3</th>\n",
       "      <td>POLYGON ((-87.66776561737061 41.91074091042736...</td>\n",
       "      <td>bucktown</td>\n",
       "    </tr>\n",
       "    <tr>\n",
       "      <th>4</th>\n",
       "      <td>POLYGON ((-87.65356063842772 41.9112199638231,...</td>\n",
       "      <td>bucktown</td>\n",
       "    </tr>\n",
       "  </tbody>\n",
       "</table>\n",
       "</div>"
      ],
      "text/plain": [
       "                                            geometry neighborhood\n",
       "0  POLYGON ((-87.68754959106445 41.92488743920406...     bucktown\n",
       "1  POLYGON ((-87.68772125244141 41.92693092226143...     bucktown\n",
       "2  POLYGON ((-87.68763542175293 41.92725021057667...     bucktown\n",
       "3  POLYGON ((-87.66776561737061 41.91074091042736...     bucktown\n",
       "4  POLYGON ((-87.65356063842772 41.9112199638231,...     bucktown"
      ]
     },
     "execution_count": 2,
     "metadata": {},
     "output_type": "execute_result"
    }
   ],
   "source": [
    "dna_df = gpd.read_file(\"dna_neighborhoods.geojson\")\n",
    "\n",
    "dna_df.head()"
   ]
  },
  {
   "cell_type": "code",
   "execution_count": 3,
   "metadata": {
    "collapsed": false
   },
   "outputs": [
    {
     "name": "stderr",
     "output_type": "stream",
     "text": [
      "Self-intersection at or near point -87.686438916304667 41.910271695783507\n",
      "Self-intersection at or near point -87.788491453218157 41.98601286335942\n",
      "Self-intersection at or near point -87.729263305664062 41.983356261006165\n",
      "Too few points in geometry component at or near point -87.6424241065979 41.892278647917657\n",
      "Self-intersection at or near point -87.662614948420355 41.944892143035375\n",
      "Self-intersection at or near point -87.630632952110147 41.866987407744745\n",
      "Self-intersection at or near point -87.656278069661781 41.965673971769824\n",
      "Self-intersection at or near point -87.651886333931159 41.973543484149701\n",
      "Self-intersection at or near point -87.645185495158671 41.954885875733162\n",
      "Self-intersection at or near point -87.696653134388384 41.975925779834952\n",
      "Self-intersection at or near point -87.703229443024071 41.965477682669018\n",
      "Self-intersection at or near point -87.717500791285502 41.941382570329075\n",
      "Self-intersection at or near point -87.787422365928435 41.970491745681166\n",
      "Self-intersection at or near point -87.716702063287073 41.797568757805948\n",
      "Self-intersection at or near point -87.630532191950778 41.911228489315171\n",
      "Self-intersection at or near point -87.627332299032986 41.901691558915559\n",
      "Too few points in geometry component at or near point -87.630386352539062 41.910341696517875\n",
      "Self-intersection at or near point -87.624428215146139 41.904064904942942\n",
      "Self-intersection at or near point -87.746642636011217 41.968105927985079\n",
      "Too few points in geometry component at or near point -87.583694458007812 41.804078144272367\n",
      "Self-intersection at or near point -87.588205517289666 41.802585668130355\n",
      "Too few points in geometry component at or near point -87.816810607910156 41.983866669461193\n",
      "Self-intersection at or near point -87.60595945365759 41.764813674870297\n",
      "Self-intersection at or near point -87.683522441956796 41.821996241845568\n",
      "Self-intersection at or near point -87.586034003061414 41.738993287757005\n",
      "Self-intersection at or near point -87.706994556600534 41.885410284907607\n",
      "Self-intersection at or near point -87.637952298454792 41.86394001114526\n",
      "Self-intersection at or near point -87.701389789580944 41.975779404355102\n",
      "Too few points in geometry component at or near point -87.704200744628906 41.968297370876712\n",
      "Self-intersection at or near point -87.683394299641904 41.953168075876931\n",
      "Self-intersection at or near point -87.685088681665022 41.935490206844278\n",
      "Self-intersection at or near point -87.718004815749083 41.946203443111798\n",
      "Too few points in geometry component at or near point -87.643296146379726 41.736572857412739\n",
      "Self-intersection at or near point -87.803374725469098 41.789762806798812\n",
      "Self-intersection at or near point -87.685257235487626 41.865806783740389\n",
      "Self-intersection at or near point -87.668924329515448 41.968935531682405\n",
      "Self-intersection at or near point -87.665550060998584 41.823422971984037\n",
      "Self-intersection at or near point -87.70229728018667 41.926136416251239\n",
      "Self-intersection at or near point -87.697353033709689 41.932067273894368\n",
      "Self-intersection at or near point -87.712285764758676 41.70592513125267\n",
      "Self-intersection at or near point -87.701899543698957 41.71367446471622\n",
      "Self-intersection at or near point -87.69559592072055 41.69311667636083\n",
      "Self-intersection at or near point -87.665288716196912 41.713984750845334\n",
      "Self-intersection at or near point -87.659727014538944 41.699145027149626\n",
      "Self-intersection at or near point -87.68121981919009 41.734148042040566\n",
      "Too few points in geometry component at or near point -87.66864538192749 41.699240213413184\n",
      "Self-intersection at or near point -87.66192287657023 41.719918391341736\n",
      "Too few points in geometry component at or near point -87.939376831054688 41.861379155873593\n",
      "Self-intersection at or near point -87.679332695434994 41.699221239441393\n",
      "Self-intersection at or near point -87.660879696897453 41.724413759867723\n",
      "Self-intersection at or near point -87.665441544422009 42.017412018501801\n",
      "Self-intersection at or near point -87.666001189066861 42.02264573924203\n",
      "Too few points in geometry component at or near point -87.65898960235063 41.998164099019881\n",
      "Self-intersection at or near point -87.624571549219809 41.885841658620102\n",
      "Self-intersection at or near point -87.71170156851403 41.904652090768906\n",
      "Self-intersection at or near point -87.581909803202763 41.802512943660126\n",
      "Self-intersection at or near point -87.588824336479178 41.802497532540322\n",
      "Self-intersection at or near point -87.605752944946289 41.786609047139429\n",
      "Self-intersection at or near point -87.606004501143957 41.79645646720342\n",
      "Self-intersection at or near point -87.746784272435036 41.924826432940847\n",
      "Self-intersection at or near point -87.681328887142016 41.9199555961928\n",
      "Too few points in geometry component at or near point -87.667980194091797 41.89154387998115\n",
      "Self-intersection at or near point -87.687078510818864 41.895869754949857\n",
      "Self-intersection at or near point -87.677453970881231 41.893053716747623\n",
      "Too few points in geometry component at or near point -87.747287750244126 41.946851451851913\n",
      "Self-intersection at or near point -87.743176333579697 41.953478751712119\n",
      "Too few points in geometry component at or near point -87.795181274414062 41.941361157834493\n",
      "Too few points in geometry component at or near point -87.833547592163086 41.95221360819842\n",
      "Ring Self-intersection at or near point -87.657830715179443 41.998395643804315\n",
      "Too few points in geometry component at or near point -87.702999114990234 41.994967041039189\n",
      "Self-intersection at or near point -87.691976822165387 41.882637456027609\n",
      "Self-intersection at or near point -87.65231635151666 41.954784237990864\n",
      "Too few points in geometry component at or near point -87.644634246826172 41.940211966696907\n",
      "Self-intersection at or near point -87.644853981270529 41.952263750411262\n",
      "Self-intersection at or near point -87.6712691616857 41.976082495940339\n",
      "Self-intersection at or near point -87.684883640339976 41.898243568145972\n",
      "Self-intersection at or near point -87.602237680822725 41.658090137767118\n",
      "Self-intersection at or near point -87.629947198541743 41.711107400610096\n",
      "Self-intersection at or near point -87.787780979137665 42.011001401209512\n",
      "Self-intersection at or near point -87.771828476055134 42.00871784591687\n",
      "Self-intersection at or near point -87.612991131159887 41.888652758381923\n",
      "Self-intersection at or near point -87.622417211438147 41.899229233282099\n",
      "Self-intersection at or near point -87.556647328267545 41.656046178065893\n",
      "Self-intersection at or near point -87.703680909607613 42.015232684461061\n",
      "Self-intersection at or near point -87.758725316300641 41.946024784260793\n",
      "Self-intersection at or near point -87.748306198771672 41.952396588563794\n",
      "Self-intersection at or near point -87.766342163085938 41.945702359666882\n",
      "Self-intersection at or near point -87.728867254021722 41.941293510314921\n",
      "Self-intersection at or near point -87.684621455201111 41.845526384546119\n",
      "Self-intersection at or near point -87.687055900439589 41.903062644183706\n",
      "Self-intersection at or near point -87.704031729518434 41.915384423749842\n",
      "Self-intersection at or near point -87.666498848244075 41.906129250821387\n",
      "Self-intersection at or near point -87.677316276057851 41.909908991134074\n",
      "Self-intersection at or near point -87.633435072376841 41.932448425452442\n",
      "Self-intersection at or near point -87.595814823507922 41.78415256262344\n",
      "Self-intersection at or near point -87.743064246213962 41.818013112425405\n",
      "Self-intersection at or near point -87.70892386914015 41.821392766625387\n",
      "Self-intersection at or near point -87.712802065513941 41.809712835980839\n",
      "Self-intersection at or near point -87.703941199678709 41.814204444093178\n",
      "Self-intersection at or near point -87.630783729485444 41.91891201539616\n",
      "Self-intersection at or near point -87.634223362512984 41.906410536027714\n",
      "Self-intersection at or near point -87.634169558547228 41.903937888587109\n",
      "Self-intersection at or near point -87.69411563873291 41.960830414495724\n",
      "Too few points in geometry component at or near point -87.805846766204922 41.90852968037197\n"
     ]
    }
   ],
   "source": [
    "# Remove invalid geometries, warnings refer to the geometries being removed\n",
    "dna_df = dna_df[dna_df['geometry'].is_valid]\n",
    "dna_df[\"area\"] = dna_df[\"geometry\"].area\n",
    "dna_df['col_index'] = dna_df.index"
   ]
  },
  {
   "cell_type": "code",
   "execution_count": 4,
   "metadata": {
    "collapsed": false
   },
   "outputs": [
    {
     "data": {
      "text/html": [
       "<div>\n",
       "<table border=\"1\" class=\"dataframe\">\n",
       "  <thead>\n",
       "    <tr style=\"text-align: right;\">\n",
       "      <th></th>\n",
       "      <th>neighborhood</th>\n",
       "      <th>count</th>\n",
       "    </tr>\n",
       "  </thead>\n",
       "  <tbody>\n",
       "    <tr>\n",
       "      <th>0</th>\n",
       "      <td>ravenswood</td>\n",
       "      <td>78</td>\n",
       "    </tr>\n",
       "    <tr>\n",
       "      <th>1</th>\n",
       "      <td>lakeview</td>\n",
       "      <td>77</td>\n",
       "    </tr>\n",
       "    <tr>\n",
       "      <th>2</th>\n",
       "      <td>logan-square</td>\n",
       "      <td>75</td>\n",
       "    </tr>\n",
       "    <tr>\n",
       "      <th>3</th>\n",
       "      <td>lincoln-square</td>\n",
       "      <td>74</td>\n",
       "    </tr>\n",
       "    <tr>\n",
       "      <th>4</th>\n",
       "      <td>uptown</td>\n",
       "      <td>73</td>\n",
       "    </tr>\n",
       "  </tbody>\n",
       "</table>\n",
       "</div>"
      ],
      "text/plain": [
       "     neighborhood  count\n",
       "0      ravenswood     78\n",
       "1        lakeview     77\n",
       "2    logan-square     75\n",
       "3  lincoln-square     74\n",
       "4          uptown     73"
      ]
     },
     "execution_count": 4,
     "metadata": {},
     "output_type": "execute_result"
    }
   ],
   "source": [
    "# Create a csv with the counts of each neighborhood\n",
    "merge_count = pd.DataFrame(pd.value_counts(dna_df['neighborhood']))\n",
    "merge_count.reset_index(inplace=True)\n",
    "merge_count.columns = ['neighborhood', 'count']\n",
    "merge_count.to_csv('neighborhood_count.csv', index=False)\n",
    "merge_count.head()"
   ]
  },
  {
   "cell_type": "code",
   "execution_count": 5,
   "metadata": {
    "collapsed": true
   },
   "outputs": [],
   "source": [
    "# Create copy of data frame to do cross join, clean up columns\n",
    "dna_match = dna_df\n",
    "dna_match = dna_df[['neighborhood', 'geometry', 'col_index']]\n",
    "dna_match = dna_match.rename(columns={'geometry': 'geometry_y', 'col_index': 'col_index_y'})\n",
    "\n",
    "# Create cross join on neighborhoods and drop any shapes matched against themselves\n",
    "dna_merge = pd.merge(dna_df, dna_match, on='neighborhood')\n",
    "dna_merge = dna_merge[dna_merge['col_index'] != dna_merge['col_index_y']]"
   ]
  },
  {
   "cell_type": "code",
   "execution_count": 6,
   "metadata": {
    "collapsed": true
   },
   "outputs": [],
   "source": [
    "# Define function to be applied against each row, more readable than lambda\n",
    "def get_overlap(row):\n",
    "    return row['geometry'].intersection(row['geometry_y']).area / row['area']"
   ]
  },
  {
   "cell_type": "code",
   "execution_count": 7,
   "metadata": {
    "collapsed": false
   },
   "outputs": [
    {
     "data": {
      "text/html": [
       "<div>\n",
       "<table border=\"1\" class=\"dataframe\">\n",
       "  <thead>\n",
       "    <tr style=\"text-align: right;\">\n",
       "      <th></th>\n",
       "      <th>neighborhood</th>\n",
       "      <th>overlap</th>\n",
       "      <th>count</th>\n",
       "    </tr>\n",
       "  </thead>\n",
       "  <tbody>\n",
       "    <tr>\n",
       "      <th>0</th>\n",
       "      <td>albany-park</td>\n",
       "      <td>0.599146</td>\n",
       "      <td>50</td>\n",
       "    </tr>\n",
       "    <tr>\n",
       "      <th>1</th>\n",
       "      <td>altgeld-gardens</td>\n",
       "      <td>0.000000</td>\n",
       "      <td>3</td>\n",
       "    </tr>\n",
       "    <tr>\n",
       "      <th>2</th>\n",
       "      <td>andersonville</td>\n",
       "      <td>0.551603</td>\n",
       "      <td>70</td>\n",
       "    </tr>\n",
       "    <tr>\n",
       "      <th>3</th>\n",
       "      <td>archer-heights</td>\n",
       "      <td>0.614201</td>\n",
       "      <td>6</td>\n",
       "    </tr>\n",
       "    <tr>\n",
       "      <th>4</th>\n",
       "      <td>armour-square</td>\n",
       "      <td>0.519605</td>\n",
       "      <td>5</td>\n",
       "    </tr>\n",
       "  </tbody>\n",
       "</table>\n",
       "</div>"
      ],
      "text/plain": [
       "      neighborhood   overlap  count\n",
       "0      albany-park  0.599146     50\n",
       "1  altgeld-gardens  0.000000      3\n",
       "2    andersonville  0.551603     70\n",
       "3   archer-heights  0.614201      6\n",
       "4    armour-square  0.519605      5"
      ]
     },
     "execution_count": 7,
     "metadata": {},
     "output_type": "execute_result"
    }
   ],
   "source": [
    "# Apply overlap function, group and write to csv\n",
    "dna_merge['overlap'] = dna_merge.apply(lambda row: get_overlap(row), axis=1)\n",
    "\n",
    "# Get the mean overlap for each neighborhood, and then bring back counts of shapes for each\n",
    "dna_group = dna_merge.groupby(['neighborhood'], as_index=False)['overlap'].mean()\n",
    "count_dna = pd.read_csv('neighborhood_count.csv')\n",
    "dna_group = pd.merge(dna_group, count_dna, on='neighborhood')\n",
    "\n",
    "dna_group.to_csv('neighborhood_overlap.csv', index=False)\n",
    "dna_group.head()"
   ]
  },
  {
   "cell_type": "code",
   "execution_count": null,
   "metadata": {
    "collapsed": true
   },
   "outputs": [],
   "source": []
  }
 ],
 "metadata": {
  "kernelspec": {
   "display_name": "Python 3",
   "language": "python",
   "name": "python3"
  },
  "language_info": {
   "codemirror_mode": {
    "name": "ipython",
    "version": 3
   },
   "file_extension": ".py",
   "mimetype": "text/x-python",
   "name": "python",
   "nbconvert_exporter": "python",
   "pygments_lexer": "ipython3",
   "version": "3.4.3"
  }
 },
 "nbformat": 4,
 "nbformat_minor": 0
}
